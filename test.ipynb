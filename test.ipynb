{
 "cells": [
  {
   "cell_type": "code",
   "execution_count": 1,
   "metadata": {},
   "outputs": [],
   "source": [
    "import basilica\n",
    "import joblib\n",
    "import numpy as np\n",
    "import pandas as pd\n",
    "from flask import jsonify\n",
    "import sklearn.decomposition\n",
    "import sklearn.neighbors\n",
    "import sklearn.preprocessing"
   ]
  },
  {
   "cell_type": "code",
   "execution_count": 32,
   "metadata": {},
   "outputs": [],
   "source": [
    "class Recommender():\n",
    "    \"\"\"\n",
    "    Recommend cannabis strains for users based on input_text.\n",
    "    \"\"\"\n",
    "    def __init__(self):\n",
    "        self.scaler = joblib.load('scaler.pkl')\n",
    "        self.pca = joblib.load('pcaer.pkl')\n",
    "        self.normalizer = joblib.load('normd.pkl')\n",
    "        self.nn = joblib.load('nnmodel.pkl')\n",
    "        self.API_KEY='API_KEY'\n",
    "        \n",
    "    def strain_recommender(self, input_text, neighbors=5):\n",
    "        \"\"\"\n",
    "        Uses Basilica to embed input_text from the user and then runs it through a process\n",
    "        that includes a Standard Scaler, PCA to reduce dimensionality down to 75, \n",
    "        normalizes input_text, then a nearest neighbors model that returns 5 recommended\n",
    "        strains id's for the user.\n",
    "        \"\"\"\n",
    "        with basilica.Connection(self.API_KEY) as c:\n",
    "            embedded = c.embed_sentence(input_text)\n",
    "        \n",
    "        embedded = np.stack([embedded], axis=0)\n",
    "        \n",
    "        scaled = self.scaler.transform(embedded)\n",
    "        pcaed = self.pca.transform(scaled)\n",
    "        normalized = self.normalizer.transform(pcaed)\n",
    "        results = self.nn.kneighbors(normalized, neighbors)[1][0].tolist()\n",
    "        # used this to see distances for recommended strains:\n",
    "#         score, strain_index = self.nn.kneighbors(normalized, neighbors)\n",
    "#         print(score, strain_index)\n",
    "        return results"
   ]
  },
  {
   "cell_type": "code",
   "execution_count": 30,
   "metadata": {},
   "outputs": [
    {
     "data": {
      "text/plain": [
       "[188, 1075, 272, 1333, 116]"
      ]
     },
     "execution_count": 30,
     "metadata": {},
     "output_type": "execute_result"
    }
   ],
   "source": [
    "target = \"I need something to help with anxiety and pain but has a sweet flavor\"\n",
    "recommender = Recommender()\n",
    "recommender.strain_recommender(target)\n",
    "\n"
   ]
  },
  {
   "cell_type": "code",
   "execution_count": 31,
   "metadata": {},
   "outputs": [
    {
     "data": {
      "text/plain": [
       "list"
      ]
     },
     "execution_count": 31,
     "metadata": {},
     "output_type": "execute_result"
    }
   ],
   "source": [
    "type(recommender.strain_recommender(target))"
   ]
  },
  {
   "cell_type": "code",
   "execution_count": null,
   "metadata": {},
   "outputs": [],
   "source": []
  }
 ],
 "metadata": {
  "kernelspec": {
   "display_name": "MEDCAB",
   "language": "python",
   "name": "medcab"
  },
  "language_info": {
   "codemirror_mode": {
    "name": "ipython",
    "version": 3
   },
   "file_extension": ".py",
   "mimetype": "text/x-python",
   "name": "python",
   "nbconvert_exporter": "python",
   "pygments_lexer": "ipython3",
   "version": "3.7.0"
  }
 },
 "nbformat": 4,
 "nbformat_minor": 4
}
